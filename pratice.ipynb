{
 "cells": [
  {
   "cell_type": "code",
   "execution_count": 2,
   "id": "4a173bbf-a40e-42d2-94ee-2f6d18a70400",
   "metadata": {},
   "outputs": [
    {
     "name": "stdout",
     "output_type": "stream",
     "text": [
      "25\n"
     ]
    }
   ],
   "source": [
    "def calc_sum(a,b):\n",
    "    sum = a + b\n",
    "    print(sum)\n",
    "  \n",
    "\n",
    "calc_sum(10,15)\n"
   ]
  },
  {
   "cell_type": "code",
   "execution_count": 4,
   "id": "dabf1313-00b0-4341-b6f4-379e2fa93418",
   "metadata": {},
   "outputs": [
    {
     "name": "stdout",
     "output_type": "stream",
     "text": [
      "50\n"
     ]
    }
   ],
   "source": [
    "def calc_add(a,b):\n",
    "    add = a + b\n",
    "    print(add)\n",
    "\n",
    "calc_add(20,30)"
   ]
  },
  {
   "cell_type": "code",
   "execution_count": 5,
   "id": "56efb364-9226-44b1-822b-9bf385833e82",
   "metadata": {},
   "outputs": [
    {
     "name": "stdout",
     "output_type": "stream",
     "text": [
      "150\n"
     ]
    }
   ],
   "source": [
    "calc_add(100,50)"
   ]
  },
  {
   "cell_type": "code",
   "execution_count": 6,
   "id": "bb6876e6-bcaa-4931-a46c-f532251cf74e",
   "metadata": {},
   "outputs": [
    {
     "name": "stdout",
     "output_type": "stream",
     "text": [
      "30\n"
     ]
    }
   ],
   "source": [
    "def calc_sub(a,b,c):\n",
    "    sub = a*b*c\n",
    "    print(sub)\n",
    "\n",
    "calc_sub(2,3,5)"
   ]
  },
  {
   "cell_type": "code",
   "execution_count": 9,
   "id": "74cd9c6f-e57c-4c43-aeaa-d8cece9aef43",
   "metadata": {},
   "outputs": [
    {
     "name": "stdout",
     "output_type": "stream",
     "text": [
      "35.0\n"
     ]
    }
   ],
   "source": [
    "def calc_avg(a,b,c,d):\n",
    "    sum = a+b+c+d\n",
    "    avg=sum/4\n",
    "    print(avg)\n",
    "\n",
    "calc_avg(40,20,30,50)"
   ]
  },
  {
   "cell_type": "code",
   "execution_count": 11,
   "id": "2acad43f-7ee6-402d-b715-cdbdcc82a725",
   "metadata": {},
   "outputs": [
    {
     "name": "stdout",
     "output_type": "stream",
     "text": [
      "Utkarsh Yadav\n"
     ]
    }
   ],
   "source": [
    "def print_hello():\n",
    "    print(\"Utkarsh Yadav\")\n",
    "\n",
    "print_hello()\n",
    " "
   ]
  },
  {
   "cell_type": "code",
   "execution_count": 13,
   "id": "8c7a573c-16a6-4c1b-af87-5d06f8cb01d5",
   "metadata": {},
   "outputs": [
    {
     "name": "stdout",
     "output_type": "stream",
     "text": [
      "Utkarsh Yadav\n",
      "Ayush Yadav\n",
      "Vipul Yadav\n",
      "Raj Yadav\n"
     ]
    }
   ],
   "source": [
    "def something():\n",
    "    print(\"Utkarsh Yadav\")\n",
    "    print(\"Ayush Yadav\")\n",
    "    print(\"Vipul Yadav\")\n",
    "    print(\"Raj Yadav\")\n",
    "\n",
    "something()\n",
    "    "
   ]
  },
  {
   "cell_type": "code",
   "execution_count": 15,
   "id": "96fdf356-88d9-4e0d-b2f9-d6360be20239",
   "metadata": {},
   "outputs": [
    {
     "name": "stdout",
     "output_type": "stream",
     "text": [
      "2.0\n"
     ]
    }
   ],
   "source": [
    "def divide(a,b):\n",
    "    div = a/b\n",
    "    print(div)\n",
    "\n",
    "divide(10,5)\n",
    "    "
   ]
  },
  {
   "cell_type": "code",
   "execution_count": 16,
   "id": "158a5a39-7249-4217-ac3f-64f3016f13c2",
   "metadata": {},
   "outputs": [
    {
     "name": "stdout",
     "output_type": "stream",
     "text": [
      "50.0\n"
     ]
    }
   ],
   "source": [
    "def divide(a,b):\n",
    "    div = a/b\n",
    "    print(div)\n",
    "\n",
    "divide(100,2)\n"
   ]
  },
  {
   "cell_type": "code",
   "execution_count": 17,
   "id": "cd86f851-d43a-49d2-ac37-917ea654f153",
   "metadata": {},
   "outputs": [
    {
     "name": "stdout",
     "output_type": "stream",
     "text": [
      "10.0\n"
     ]
    }
   ],
   "source": [
    "divide(60,6)"
   ]
  },
  {
   "cell_type": "code",
   "execution_count": 22,
   "id": "00c57e00-6d3e-4cb4-85c1-9995b4038602",
   "metadata": {},
   "outputs": [
    {
     "name": "stdout",
     "output_type": "stream",
     "text": [
      "73\n"
     ]
    }
   ],
   "source": [
    "#To make a calculator\n",
    "def add(a,b,c,d):\n",
    "    s = a+b+c+d\n",
    "    print(s)\n",
    "\n",
    "add(23,5,43,2)\n"
   ]
  },
  {
   "cell_type": "code",
   "execution_count": 29,
   "id": "5d1ffa97-3bd1-4f3d-85b5-7d3d5345bbec",
   "metadata": {},
   "outputs": [
    {
     "name": "stdout",
     "output_type": "stream",
     "text": [
      "['lucknow', 'mumbai', 'hyderabad', 'patna', 'delhi', 'noida']\n"
     ]
    }
   ],
   "source": [
    "def cities():\n",
    "    list = [\"lucknow\",\"mumbai\",\"hyderabad\",\"patna\",\"delhi\",\"noida\"]\n",
    "    print(list)\n",
    "\n",
    "cities()\n"
   ]
  },
  {
   "cell_type": "code",
   "execution_count": 40,
   "id": "f9de6a3f-e912-486f-b815-431a2f58aea8",
   "metadata": {},
   "outputs": [
    {
     "name": "stdout",
     "output_type": "stream",
     "text": [
      "Utkarsh Yadav\n"
     ]
    }
   ],
   "source": [
    "class Student:\n",
    "    name = \"Utkarsh Yadav\"\n",
    "\n",
    "s1 = Student()\n",
    "print(s1.name)"
   ]
  },
  {
   "cell_type": "code",
   "execution_count": 42,
   "id": "5316ede3-b317-482f-b993-828ef5c3f6ca",
   "metadata": {},
   "outputs": [
    {
     "name": "stdout",
     "output_type": "stream",
     "text": [
      "blue\n",
      "mercedes\n"
     ]
    }
   ],
   "source": [
    "class Car:\n",
    "    color = \"blue\"\n",
    "    brand = \"mercedes\"\n",
    "\n",
    "car1 = Car()\n",
    "print(car1.color)\n",
    "print(car1.brand)"
   ]
  },
  {
   "cell_type": "code",
   "execution_count": 44,
   "id": "d6b762b1-5da8-45bf-b088-888865fefce3",
   "metadata": {},
   "outputs": [
    {
     "name": "stdout",
     "output_type": "stream",
     "text": [
      "adding new student in database\n"
     ]
    }
   ],
   "source": [
    "class Student:\n",
    "    def __init__(self):\n",
    "        print(\"adding new student in database\")\n",
    "\n",
    "s1 = Student()\n",
    "    "
   ]
  },
  {
   "cell_type": "code",
   "execution_count": 46,
   "id": "7bc241e8-a8fd-449d-8df5-09ce678d6b1e",
   "metadata": {},
   "outputs": [
    {
     "name": "stdout",
     "output_type": "stream",
     "text": [
      "adding new student in Database\n",
      "Utkarsh Yadav 88\n",
      "adding new student in Database\n",
      "Vipul Yadav 90\n"
     ]
    }
   ],
   "source": [
    "class Student:\n",
    "    def __init__(self, name, marks):\n",
    "        self.name = name\n",
    "        self.marks = marks\n",
    "        print(\"adding new student in Database\")\n",
    "\n",
    "s1 = Student(\"Utkarsh Yadav\", 88)\n",
    "print(s1.name, s1.marks)\n",
    "\n",
    "s2 = Student(\"Vipul Yadav\", 90)\n",
    "print(s2.name, s2.marks)"
   ]
  },
  {
   "cell_type": "code",
   "execution_count": 1,
   "id": "6eb2b2b6-575c-4ef3-8ab8-d7e0e46c470e",
   "metadata": {},
   "outputs": [
    {
     "name": "stdout",
     "output_type": "stream",
     "text": [
      "adding new student in Database\n",
      "Utkarsh Yadav 88\n",
      "adding new student in Database\n",
      "Vipul Yadav 90\n",
      "Goel\n"
     ]
    }
   ],
   "source": [
    "class Student:\n",
    "    college_name = \"Goel\"\n",
    "    def __init__(self, name, marks):\n",
    "        self.name = name\n",
    "        self.marks = marks\n",
    "        print(\"adding new student in Database\")\n",
    "\n",
    "s1 = Student(\"Utkarsh Yadav\", 88)\n",
    "print(s1.name, s1.marks)\n",
    "\n",
    "s2 = Student(\"Vipul Yadav\", 90)\n",
    "print(s2.name, s2.marks)\n",
    "print(s2.college_name)"
   ]
  },
  {
   "cell_type": "code",
   "execution_count": 3,
   "id": "99f5a9d8-175c-4cb4-96d3-384fe2b64210",
   "metadata": {},
   "outputs": [
    {
     "name": "stdout",
     "output_type": "stream",
     "text": [
      "Welcome student to new college\n"
     ]
    }
   ],
   "source": [
    "class Student:\n",
    "    def welcome(self):\n",
    "        print(\"Welcome student to new college\")\n",
    "\n",
    "s1 = Student()\n",
    "s1.welcome()"
   ]
  },
  {
   "cell_type": "code",
   "execution_count": 5,
   "id": "58405962-4b2a-4f61-89b3-00f7b4f03699",
   "metadata": {},
   "outputs": [
    {
     "name": "stdout",
     "output_type": "stream",
     "text": [
      "Car Started\n"
     ]
    }
   ],
   "source": [
    " #ABSTRACTION\n",
    "class Car:\n",
    "    def __init__(self):\n",
    "        self.acc = False\n",
    "        self.brk = False\n",
    "        self.clutch = False\n",
    "    \n",
    "    def start(self):\n",
    "            self.clutch = True\n",
    "            self.acc = True\n",
    "            print(\"Car Started\")\n",
    "\n",
    "car1 = Car()\n",
    "car1.start()\n"
   ]
  },
  {
   "cell_type": "code",
   "execution_count": 9,
   "id": "2b3d838c-d334-4cfa-8fc0-eddcda7482be",
   "metadata": {},
   "outputs": [
    {
     "name": "stdout",
     "output_type": "stream",
     "text": [
      "Utkarsh Yadav\n"
     ]
    }
   ],
   "source": [
    "class Student:\n",
    "    def __init__(self, name):\n",
    "        self.name = name\n",
    "\n",
    "s1 = Student(\"Utkarsh Yadav\")\n",
    "print(s1.name)\n"
   ]
  },
  {
   "cell_type": "code",
   "execution_count": 15,
   "id": "4b05b3a6-654c-474e-a6a0-ebaf475fbd7d",
   "metadata": {},
   "outputs": [
    {
     "name": "stdout",
     "output_type": "stream",
     "text": [
      "car started\n",
      "None\n",
      "car stop\n",
      "None\n"
     ]
    }
   ],
   "source": [
    "#inheritance : when one class derives the property and method to another class\n",
    "class Car:\n",
    "    @staticmethod\n",
    "    def start():\n",
    "        print(\"car started\")\n",
    "     \n",
    "    @staticmethod\n",
    "    def stop():\n",
    "        print(\"car stop\")\n",
    "\n",
    "class ToyotaCar(Car):\n",
    "    def __init__(self,name):\n",
    "        self.name = name\n",
    "\n",
    "car1 = ToyotaCar(\"fortuner\")\n",
    "car2 = ToyotaCar(\"prius\")\n",
    "\n",
    "print(car1.start())\n",
    "print(car2.stop())\n",
    "\n",
    "\n",
    " "
   ]
  },
  {
   "cell_type": "code",
   "execution_count": 17,
   "id": "246327ec-3de0-441e-952e-4d5945737040",
   "metadata": {},
   "outputs": [
    {
     "name": "stdout",
     "output_type": "stream",
     "text": [
      "welcome to clas c\n",
      "welcome to class b\n",
      "welcome to class a\n"
     ]
    }
   ],
   "source": [
    "#Multi level inheritance\n",
    "class A:\n",
    "    varA = \"welcome to class a\"\n",
    "\n",
    "class B:\n",
    "    varB = \"welcome to class b\"\n",
    "\n",
    "class C(A,B):\n",
    "    varC = \"welcome to clas c\"\n",
    "\n",
    "c1 = C()\n",
    "print(c1.varC)\n",
    "print(c1.varB)\n",
    "print(c1.varA)"
   ]
  },
  {
   "cell_type": "code",
   "execution_count": null,
   "id": "d5204e9b-5420-4833-94fa-908deb9cbee6",
   "metadata": {},
   "outputs": [],
   "source": []
  }
 ],
 "metadata": {
  "kernelspec": {
   "display_name": "anaconda-panel-2023.05-py310",
   "language": "python",
   "name": "conda-env-anaconda-panel-2023.05-py310-py"
  },
  "language_info": {
   "codemirror_mode": {
    "name": "ipython",
    "version": 3
   },
   "file_extension": ".py",
   "mimetype": "text/x-python",
   "name": "python",
   "nbconvert_exporter": "python",
   "pygments_lexer": "ipython3",
   "version": "3.11.5"
  }
 },
 "nbformat": 4,
 "nbformat_minor": 5
}
